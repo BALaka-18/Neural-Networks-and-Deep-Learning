{
  "nbformat": 4,
  "nbformat_minor": 0,
  "metadata": {
    "colab": {
      "name": "CNN_fundamentals_and_rest.ipynb",
      "provenance": [],
      "toc_visible": true
    },
    "kernelspec": {
      "name": "python3",
      "display_name": "Python 3"
    },
    "accelerator": "GPU"
  },
  "cells": [
    {
      "cell_type": "code",
      "metadata": {
        "colab": {
          "base_uri": "https://localhost:8080/"
        },
        "id": "dmSQv5z8vdrB",
        "outputId": "6ba1bd61-fa9a-4eb5-e397-febf51b6364e"
      },
      "source": [
        "!pip install keras-tuner"
      ],
      "execution_count": 1,
      "outputs": [
        {
          "output_type": "stream",
          "text": [
            "Requirement already satisfied: keras-tuner in /usr/local/lib/python3.6/dist-packages (1.0.2)\n",
            "Requirement already satisfied: scikit-learn in /usr/local/lib/python3.6/dist-packages (from keras-tuner) (0.22.2.post1)\n",
            "Requirement already satisfied: future in /usr/local/lib/python3.6/dist-packages (from keras-tuner) (0.16.0)\n",
            "Requirement already satisfied: packaging in /usr/local/lib/python3.6/dist-packages (from keras-tuner) (20.8)\n",
            "Requirement already satisfied: tabulate in /usr/local/lib/python3.6/dist-packages (from keras-tuner) (0.8.7)\n",
            "Requirement already satisfied: terminaltables in /usr/local/lib/python3.6/dist-packages (from keras-tuner) (3.1.0)\n",
            "Requirement already satisfied: tqdm in /usr/local/lib/python3.6/dist-packages (from keras-tuner) (4.41.1)\n",
            "Requirement already satisfied: requests in /usr/local/lib/python3.6/dist-packages (from keras-tuner) (2.23.0)\n",
            "Requirement already satisfied: colorama in /usr/local/lib/python3.6/dist-packages (from keras-tuner) (0.4.4)\n",
            "Requirement already satisfied: numpy in /usr/local/lib/python3.6/dist-packages (from keras-tuner) (1.19.5)\n",
            "Requirement already satisfied: scipy in /usr/local/lib/python3.6/dist-packages (from keras-tuner) (1.4.1)\n",
            "Requirement already satisfied: joblib>=0.11 in /usr/local/lib/python3.6/dist-packages (from scikit-learn->keras-tuner) (1.0.0)\n",
            "Requirement already satisfied: pyparsing>=2.0.2 in /usr/local/lib/python3.6/dist-packages (from packaging->keras-tuner) (2.4.7)\n",
            "Requirement already satisfied: urllib3!=1.25.0,!=1.25.1,<1.26,>=1.21.1 in /usr/local/lib/python3.6/dist-packages (from requests->keras-tuner) (1.24.3)\n",
            "Requirement already satisfied: certifi>=2017.4.17 in /usr/local/lib/python3.6/dist-packages (from requests->keras-tuner) (2020.12.5)\n",
            "Requirement already satisfied: idna<3,>=2.5 in /usr/local/lib/python3.6/dist-packages (from requests->keras-tuner) (2.10)\n",
            "Requirement already satisfied: chardet<4,>=3.0.2 in /usr/local/lib/python3.6/dist-packages (from requests->keras-tuner) (3.0.4)\n"
          ],
          "name": "stdout"
        }
      ]
    },
    {
      "cell_type": "markdown",
      "metadata": {
        "id": "PPFWv36k5ijw"
      },
      "source": [
        "## BASIC CNN WITHOUT TRANSFER LEARNING : KERAS"
      ]
    },
    {
      "cell_type": "markdown",
      "metadata": {
        "id": "TKz41blwzEda"
      },
      "source": [
        "### Importing the libraries"
      ]
    },
    {
      "cell_type": "code",
      "metadata": {
        "colab": {
          "base_uri": "https://localhost:8080/"
        },
        "id": "pSrSiFRlvm3D",
        "outputId": "92df6ca1-7e95-4542-b2c8-ac35a466a930"
      },
      "source": [
        "import tensorflow as tf\r\n",
        "from tensorflow import keras\r\n",
        "import numpy as np\r\n",
        "from kerastuner import RandomSearch\r\n",
        "from kerastuner.engine.hyperparameters import HyperParameters\r\n",
        "# Print TF version\r\n",
        "print(tf.__version__)"
      ],
      "execution_count": 2,
      "outputs": [
        {
          "output_type": "stream",
          "text": [
            "2.4.0\n"
          ],
          "name": "stdout"
        }
      ]
    },
    {
      "cell_type": "markdown",
      "metadata": {
        "id": "p4euJN-ZzfrA"
      },
      "source": [
        "### Loading inbuilt dataset"
      ]
    },
    {
      "cell_type": "code",
      "metadata": {
        "id": "9mVf-sftzVH4"
      },
      "source": [
        "# Loading the Fashion MNIST dataset from the keras module\r\n",
        "fashion_mnist = keras.datasets.fashion_mnist\r\n",
        "# Fetch the training and the testing data\r\n",
        "(train_img,train_labels),(test_img,test_labels) = fashion_mnist.load_data()"
      ],
      "execution_count": 3,
      "outputs": []
    },
    {
      "cell_type": "markdown",
      "metadata": {
        "id": "-FLaHTLw0hxn"
      },
      "source": [
        "### Normalizing and reshaping the images"
      ]
    },
    {
      "cell_type": "code",
      "metadata": {
        "colab": {
          "base_uri": "https://localhost:8080/"
        },
        "id": "RvJKObw1zZXE",
        "outputId": "f91158f4-ac61-431d-e655-7c345bc0e1b7"
      },
      "source": [
        "train_img,test_img = train_img/255.0,test_img/255.0\r\n",
        "print(\"\\nSHAPE OF 1 SAMPLE OF TRAINING DATA = {}\\n\".format(train_img[0].shape))\r\n",
        "# Reshaping\r\n",
        "train_img,test_img = train_img.reshape(len(train_img),train_img[0].shape[0],train_img[0].shape[0],1),test_img.reshape(len(test_img),test_img[0].shape[0],test_img[0].shape[0],1)\r\n",
        "print(\"SHAPE OF TRAINING DATA = {}\".format(train_img.shape))"
      ],
      "execution_count": 4,
      "outputs": [
        {
          "output_type": "stream",
          "text": [
            "\n",
            "SHAPE OF 1 SAMPLE OF TRAINING DATA = (28, 28)\n",
            "\n",
            "SHAPE OF TRAINING DATA = (60000, 28, 28, 1)\n"
          ],
          "name": "stdout"
        }
      ]
    },
    {
      "cell_type": "markdown",
      "metadata": {
        "id": "VzZkOZo42xCc"
      },
      "source": [
        "### Build the CNN model\r\n",
        "First, write a function that takes the hyperparameter as input, so, this function can be used later for hyperparameter tuning (using RandomSearch)"
      ]
    },
    {
      "cell_type": "code",
      "metadata": {
        "id": "BmEL1jWg2GLl"
      },
      "source": [
        "# Function\r\n",
        "# hp : Hyperparameter\r\n",
        "def build_model(hp):\r\n",
        "  model = keras.Sequential([\r\n",
        "    keras.layers.Conv2D(\r\n",
        "        filters = hp.Int('conv_1_filter',min_value=32,max_value=128,step=16),\r\n",
        "        kernel_size = hp.Choice('conv_1_kernel',values=[3,5]),\r\n",
        "        activation = 'relu',\r\n",
        "        input_shape = (28,28,1)\r\n",
        "    ),\r\n",
        "    keras.layers.Conv2D(\r\n",
        "        filters = hp.Int('conv_2_filter',min_value=32,max_value=64,step=16),\r\n",
        "        kernel_size = hp.Choice('conv_2_kernel',values=[3,5]),\r\n",
        "        activation = 'relu'\r\n",
        "    ),\r\n",
        "    keras.layers.Flatten(),\r\n",
        "    keras.layers.Dense(\r\n",
        "        units = hp.Int('dense_1_units',min_value=32,max_value=64,step=16),\r\n",
        "        activation='relu'\r\n",
        "    ),\r\n",
        "    keras.layers.Dense(10,activation='softmax')\r\n",
        "  ])\r\n",
        "  model.compile(\r\n",
        "      optimizer = keras.optimizers.Adam(hp.Choice('learning_rate',values=[1e-2,1e-3])),\r\n",
        "      loss = 'sparse_categorical_crossentropy',\r\n",
        "      metrics = ['accuracy']\r\n",
        "  )\r\n",
        "  return model"
      ],
      "execution_count": 5,
      "outputs": []
    },
    {
      "cell_type": "markdown",
      "metadata": {
        "id": "8ASCFhnRXH16"
      },
      "source": [
        "Then, build a tuner that searches for the most optimal hyperparameters and chooses the best combination to form the best perfroming model"
      ]
    },
    {
      "cell_type": "code",
      "metadata": {
        "id": "X4T0IHOAFTrs"
      },
      "source": [
        "tuner_search = RandomSearch(\r\n",
        "    hypermodel = build_model,\r\n",
        "    objective = 'val_accuracy',\r\n",
        "    max_trials = 5,\r\n",
        "    project_name = 'output'\r\n",
        ")"
      ],
      "execution_count": 6,
      "outputs": []
    },
    {
      "cell_type": "code",
      "metadata": {
        "colab": {
          "base_uri": "https://localhost:8080/"
        },
        "id": "3hAMs6zqZm5E",
        "outputId": "0e2c6bf1-d8ec-4a65-cf73-6b8abe3c7c3c"
      },
      "source": [
        "# Start training\r\n",
        "tuner_search.search(train_img,train_labels,epochs=3,validation_split=0.1)"
      ],
      "execution_count": 7,
      "outputs": [
        {
          "output_type": "stream",
          "text": [
            "Trial 5 Complete [00h 00m 18s]\n",
            "val_accuracy: 0.9101666808128357\n",
            "\n",
            "Best val_accuracy So Far: 0.9101666808128357\n",
            "Total elapsed time: 00h 01m 44s\n",
            "INFO:tensorflow:Oracle triggered exit\n"
          ],
          "name": "stdout"
        }
      ]
    },
    {
      "cell_type": "code",
      "metadata": {
        "colab": {
          "base_uri": "https://localhost:8080/"
        },
        "id": "3LxywAfGaw40",
        "outputId": "675e5255-04bc-4dac-e438-7855947296bf"
      },
      "source": [
        "# Get the best model\r\n",
        "model = tuner_search.get_best_models(num_models=1)[0]\r\n",
        "model.summary()\r\n",
        "# Train the selected model\r\n",
        "model.fit(train_img,train_labels,epochs=10,validation_split=0.1,initial_epoch=3)\r\n",
        "# initial_epoch tells us which epoch to start the training from.\r\n",
        "# Initialized initial_epoch to 3 coz the best model has already been through 3 epochs of training under tuner_search. So we won't retrain the model."
      ],
      "execution_count": 8,
      "outputs": [
        {
          "output_type": "stream",
          "text": [
            "Model: \"sequential\"\n",
            "_________________________________________________________________\n",
            "Layer (type)                 Output Shape              Param #   \n",
            "=================================================================\n",
            "conv2d (Conv2D)              (None, 26, 26, 48)        480       \n",
            "_________________________________________________________________\n",
            "conv2d_1 (Conv2D)            (None, 22, 22, 48)        57648     \n",
            "_________________________________________________________________\n",
            "flatten (Flatten)            (None, 23232)             0         \n",
            "_________________________________________________________________\n",
            "dense (Dense)                (None, 64)                1486912   \n",
            "_________________________________________________________________\n",
            "dense_1 (Dense)              (None, 10)                650       \n",
            "=================================================================\n",
            "Total params: 1,545,690\n",
            "Trainable params: 1,545,690\n",
            "Non-trainable params: 0\n",
            "_________________________________________________________________\n",
            "Epoch 4/10\n",
            "1688/1688 [==============================] - 6s 4ms/step - loss: 0.1876 - accuracy: 0.9309 - val_loss: 0.2394 - val_accuracy: 0.9160\n",
            "Epoch 5/10\n",
            "1688/1688 [==============================] - 6s 4ms/step - loss: 0.1382 - accuracy: 0.9490 - val_loss: 0.2518 - val_accuracy: 0.9127\n",
            "Epoch 6/10\n",
            "1688/1688 [==============================] - 6s 4ms/step - loss: 0.0982 - accuracy: 0.9645 - val_loss: 0.2750 - val_accuracy: 0.9143\n",
            "Epoch 7/10\n",
            "1688/1688 [==============================] - 6s 4ms/step - loss: 0.0675 - accuracy: 0.9755 - val_loss: 0.3248 - val_accuracy: 0.9162\n",
            "Epoch 8/10\n",
            "1688/1688 [==============================] - 6s 4ms/step - loss: 0.0463 - accuracy: 0.9836 - val_loss: 0.3629 - val_accuracy: 0.9117\n",
            "Epoch 9/10\n",
            "1688/1688 [==============================] - 6s 4ms/step - loss: 0.0365 - accuracy: 0.9875 - val_loss: 0.3996 - val_accuracy: 0.9090\n",
            "Epoch 10/10\n",
            "1688/1688 [==============================] - 6s 4ms/step - loss: 0.0282 - accuracy: 0.9897 - val_loss: 0.4289 - val_accuracy: 0.9140\n"
          ],
          "name": "stdout"
        },
        {
          "output_type": "execute_result",
          "data": {
            "text/plain": [
              "<tensorflow.python.keras.callbacks.History at 0x7f05d176ed30>"
            ]
          },
          "metadata": {
            "tags": []
          },
          "execution_count": 8
        }
      ]
    },
    {
      "cell_type": "code",
      "metadata": {
        "id": "yE8woLtccs4W"
      },
      "source": [
        ""
      ],
      "execution_count": 8,
      "outputs": []
    }
  ]
}